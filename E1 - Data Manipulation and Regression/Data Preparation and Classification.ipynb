{
 "cells": [
  {
   "cell_type": "markdown",
   "id": "a6e42188",
   "metadata": {},
   "source": [
    "For this exercise, we will use the wine dataset that is provided by scikit-learn (https://scikit-learn.org/stable/modules/generated/sklearn.datasets.load_wine.html). It is a simple multi-label classification dataset."
   ]
  },
  {
   "cell_type": "code",
   "execution_count": 1,
   "id": "be490465",
   "metadata": {},
   "outputs": [],
   "source": [
    "import sklearn\n",
    "from sklearn import *\n",
    "import pandas as pd\n",
    "import numpy as np\n",
    "import matplotlib.pyplot as plt\n",
    "import seaborn as sns\n",
    "import math\n",
    "\n",
    "data = sklearn.datasets.load_wine()"
   ]
  },
  {
   "cell_type": "markdown",
   "id": "023401c3",
   "metadata": {},
   "source": [
    "## How many examples are contained in this dataset? How many attributes are contained? What are the attribute names? What datatypes do the individual attributes have? Pick out the values of the attribute “ash”: What is the maximum, minimum, median, and mean value for this attribute?"
   ]
  },
  {
   "cell_type": "code",
   "execution_count": 2,
   "id": "8325d614",
   "metadata": {},
   "outputs": [
    {
     "name": "stdout",
     "output_type": "stream",
     "text": [
      ".. _wine_dataset:\n",
      "\n",
      "Wine recognition dataset\n",
      "------------------------\n",
      "\n",
      "**Data Set Characteristics:**\n",
      "\n",
      "    :Number of Instances: 178\n",
      "    :Number of Attributes: 13 numeric, predictive attributes and the class\n",
      "    :Attribute Information:\n",
      " \t\t- Alcohol\n",
      " \t\t- Malic acid\n",
      " \t\t- Ash\n",
      "\t\t- Alcalinity of ash  \n",
      " \t\t- Magnesium\n",
      "\t\t- Total phenols\n",
      " \t\t- Flavanoids\n",
      " \t\t- Nonflavanoid phenols\n",
      " \t\t- Proanthocyanins\n",
      "\t\t- Color intensity\n",
      " \t\t- Hue\n",
      " \t\t- OD280/OD315 of diluted wines\n",
      " \t\t- Proline\n",
      "\n",
      "    - class:\n",
      "            - class_0\n",
      "            - class_1\n",
      "            - class_2\n",
      "\t\t\n",
      "    :Summary Statistics:\n",
      "    \n",
      "    ============================= ==== ===== ======= =====\n",
      "                                   Min   Max   Mean     SD\n",
      "    ============================= ==== ===== ======= =====\n",
      "    Alcohol:                      11.0  14.8    13.0   0.8\n",
      "    Malic Acid:                   0.74  5.80    2.34  1.12\n",
      "    Ash:                          1.36  3.23    2.36  0.27\n",
      "    Alcalinity of Ash:            10.6  30.0    19.5   3.3\n",
      "    Magnesium:                    70.0 162.0    99.7  14.3\n",
      "    Total Phenols:                0.98  3.88    2.29  0.63\n",
      "    Flavanoids:                   0.34  5.08    2.03  1.00\n",
      "    Nonflavanoid Phenols:         0.13  0.66    0.36  0.12\n",
      "    Proanthocyanins:              0.41  3.58    1.59  0.57\n",
      "    Colour Intensity:              1.3  13.0     5.1   2.3\n",
      "    Hue:                          0.48  1.71    0.96  0.23\n",
      "    OD280/OD315 of diluted wines: 1.27  4.00    2.61  0.71\n",
      "    Proline:                       278  1680     746   315\n",
      "    ============================= ==== ===== ======= =====\n",
      "\n",
      "    :Missing Attribute Values: None\n",
      "    :Class Distribution: class_0 (59), class_1 (71), class_2 (48)\n",
      "    :Creator: R.A. Fisher\n",
      "    :Donor: Michael Marshall (MARSHALL%PLU@io.arc.nasa.gov)\n",
      "    :Date: July, 1988\n",
      "\n",
      "This is a copy of UCI ML Wine recognition datasets.\n",
      "https://archive.ics.uci.edu/ml/machine-learning-databases/wine/wine.data\n",
      "\n",
      "The data is the results of a chemical analysis of wines grown in the same\n",
      "region in Italy by three different cultivators. There are thirteen different\n",
      "measurements taken for different constituents found in the three types of\n",
      "wine.\n",
      "\n",
      "Original Owners: \n",
      "\n",
      "Forina, M. et al, PARVUS - \n",
      "An Extendible Package for Data Exploration, Classification and Correlation. \n",
      "Institute of Pharmaceutical and Food Analysis and Technologies,\n",
      "Via Brigata Salerno, 16147 Genoa, Italy.\n",
      "\n",
      "Citation:\n",
      "\n",
      "Lichman, M. (2013). UCI Machine Learning Repository\n",
      "[https://archive.ics.uci.edu/ml]. Irvine, CA: University of California,\n",
      "School of Information and Computer Science. \n",
      "\n",
      ".. topic:: References\n",
      "\n",
      "  (1) S. Aeberhard, D. Coomans and O. de Vel, \n",
      "  Comparison of Classifiers in High Dimensional Settings, \n",
      "  Tech. Rep. no. 92-02, (1992), Dept. of Computer Science and Dept. of  \n",
      "  Mathematics and Statistics, James Cook University of North Queensland. \n",
      "  (Also submitted to Technometrics). \n",
      "\n",
      "  The data was used with many others for comparing various \n",
      "  classifiers. The classes are separable, though only RDA \n",
      "  has achieved 100% correct classification. \n",
      "  (RDA : 100%, QDA 99.4%, LDA 98.9%, 1NN 96.1% (z-transformed data)) \n",
      "  (All results using the leave-one-out technique) \n",
      "\n",
      "  (2) S. Aeberhard, D. Coomans and O. de Vel, \n",
      "  \"THE CLASSIFICATION PERFORMANCE OF RDA\" \n",
      "  Tech. Rep. no. 92-01, (1992), Dept. of Computer Science and Dept. of \n",
      "  Mathematics and Statistics, James Cook University of North Queensland. \n",
      "  (Also submitted to Journal of Chemometrics).\n",
      "\n"
     ]
    }
   ],
   "source": [
    "# Description of the dataset\n",
    "print(data['DESCR'])"
   ]
  },
  {
   "cell_type": "markdown",
   "id": "b4bf62f1",
   "metadata": {},
   "source": [
    "Description tells us that there are 178 examples with 13 numeric attributes.\n",
    "Decription also tells us that the attribute “ash” has maximum 1.36 minimum 3.23 and mean 2.36."
   ]
  },
  {
   "cell_type": "code",
   "execution_count": 3,
   "id": "d4c7d41c",
   "metadata": {},
   "outputs": [
    {
     "name": "stdout",
     "output_type": "stream",
     "text": [
      "names of the 13 attributes:  ['alcohol', 'malic_acid', 'ash', 'alcalinity_of_ash', 'magnesium', 'total_phenols', 'flavanoids', 'nonflavanoid_phenols', 'proanthocyanins', 'color_intensity', 'hue', 'od280/od315_of_diluted_wines', 'proline']\n"
     ]
    }
   ],
   "source": [
    "#names of the 13 attributes\n",
    "print('names of the 13 attributes: ', data['feature_names'])"
   ]
  },
  {
   "cell_type": "code",
   "execution_count": 4,
   "id": "edda110a",
   "metadata": {},
   "outputs": [],
   "source": [
    "#convert it to dataframe \n",
    "df = pd.DataFrame(data.data, columns=data.feature_names)\n",
    "df['label'] = data.target"
   ]
  },
  {
   "cell_type": "markdown",
   "id": "3c8edd47",
   "metadata": {},
   "source": [
    "## Look at the label attribute: How many classes does this attribute have? How many examples are associated to each of the classes?"
   ]
  },
  {
   "cell_type": "code",
   "execution_count": 5,
   "id": "f03ae2eb",
   "metadata": {},
   "outputs": [
    {
     "name": "stdout",
     "output_type": "stream",
     "text": [
      "names of classes:  ['class_0' 'class_1' 'class_2']\n"
     ]
    }
   ],
   "source": [
    "#there are 3 classes\n",
    "print('names of classes: ', data.target_names)"
   ]
  },
  {
   "cell_type": "code",
   "execution_count": 6,
   "id": "9e629213",
   "metadata": {},
   "outputs": [
    {
     "name": "stdout",
     "output_type": "stream",
     "text": [
      "number of examples in each class: \n",
      " 1    71\n",
      "0    59\n",
      "2    48\n",
      "Name: label, dtype: int64\n"
     ]
    }
   ],
   "source": [
    "#number of examples in each class\n",
    "print('number of examples in each class:', '\\n', df.label.value_counts(normalize=False))"
   ]
  },
  {
   "cell_type": "markdown",
   "id": "ee9b4d40",
   "metadata": {},
   "source": [
    "## Take the attribute “ash” and visualize the values as a discrete histogram. Assume a number of 10 bins for the visualization. Display the value range of each bin on the x-axis of the plot."
   ]
  },
  {
   "cell_type": "code",
   "execution_count": 7,
   "id": "09be1321",
   "metadata": {},
   "outputs": [
    {
     "data": {
      "image/png": "[encoded data removed]",
      "text/plain": [
       "<Figure size 640x480 with 1 Axes>"
      ]
     },
     "metadata": {},
     "output_type": "display_data"
    }
   ],
   "source": [
    "#Histogram\n",
    "fig, ax = plt.subplots()\n",
    "counts, bins, patches = ax.hist(df['ash'], bins=10, edgecolor='black')\n",
    "ax.set_xticks(bins)\n",
    "plt.show()"
   ]
  },
  {
   "cell_type": "markdown",
   "id": "563e1292",
   "metadata": {},
   "source": [
    "## Additionally, visualize the data of the attribute “ash” in a boxplot. What does this say about the data range?"
   ]
  },
  {
   "cell_type": "code",
   "execution_count": 8,
   "id": "bef73ded",
   "metadata": {},
   "outputs": [
    {
     "data": {
      "image/png": "[encoded data removed]",
      "text/plain": [
       "<Figure size 640x480 with 1 Axes>"
      ]
     },
     "metadata": {},
     "output_type": "display_data"
    }
   ],
   "source": [
    "plt.boxplot(df['ash'])\n",
    "plt.show()"
   ]
  },
  {
   "cell_type": "markdown",
   "id": "6e2a0d9a",
   "metadata": {},
   "source": [
    "## Create a new attribute:\n",
    "## • Create a new attribute “substracted_phenols” by subtracting the values of “nonflavanoid_phenols” from the values of “total_phenols”.\n",
    "## • Increase all values of the attribute “alcohol” by 1.0."
   ]
  },
  {
   "cell_type": "code",
   "execution_count": 9,
   "id": "97e02632",
   "metadata": {},
   "outputs": [],
   "source": [
    "df_mod = df.copy()\n",
    "\n",
    "df_mod[\"substracted_phenols\"] = df_mod[\"total_phenols\"] - df_mod[\"nonflavanoid_phenols\"]\n",
    "\n",
    "df_mod[\"alcohol\"] = df_mod[\"alcohol\"] + 1"
   ]
  },
  {
   "cell_type": "markdown",
   "id": "64a4a994",
   "metadata": {},
   "source": [
    "## • Shuffle the data.\n",
    "## • Augment the dataset by creating 20 more examples that are derived from real examples. Therefore, select 20 random examples from the original dataset and apply Gaussian noise (mean = 0 and std. dev. = 1) to those examples. Finally, add the examples to the dataset."
   ]
  },
  {
   "cell_type": "code",
   "execution_count": 10,
   "id": "dcbddf64",
   "metadata": {},
   "outputs": [],
   "source": [
    "df_mod = sklearn.utils.shuffle(df_mod, random_state=20)\n",
    "\n",
    "random_examples = df_mod.sample(n = 20, random_state=0)\n",
    "noise = np.random.normal(0, 1, [20,15]) \n",
    "new_examples = random_examples + noise\n",
    "df_mod = pd.concat([df_mod, new_examples], ignore_index=True, sort=False)"
   ]
  },
  {
   "cell_type": "markdown",
   "id": "e351d7e5",
   "metadata": {},
   "source": [
    "## Training preparation:\n",
    "## • Scale the data of the attribute “ash” to the range [0,1] with one of the scalers of scikit-learn."
   ]
  },
  {
   "cell_type": "code",
   "execution_count": 11,
   "id": "8e813655",
   "metadata": {},
   "outputs": [],
   "source": [
    "min_max_scaler = sklearn.preprocessing.MinMaxScaler()\n",
    "df_mod['ash'] = min_max_scaler.fit_transform(df_mod[['ash']])"
   ]
  },
  {
   "cell_type": "markdown",
   "id": "011b4b6b",
   "metadata": {},
   "source": [
    "## Take the original wine data from the first example\n",
    "## Transform the problem to a binary classification task by combining labels of class 1 and 2. Name the resulting labels class-0 and not-class-0"
   ]
  },
  {
   "cell_type": "code",
   "execution_count": 13,
   "id": "d019e94d",
   "metadata": {},
   "outputs": [],
   "source": [
    "df = pd.DataFrame(data.data, columns=data.feature_names)\n",
    "df['label'] = data.target\n",
    "df.loc[df.label!=0,'label']='not-class-0'\n",
    "df.loc[df.label==0,'label']='class-0'"
   ]
  },
  {
   "cell_type": "markdown",
   "id": "de3555ea",
   "metadata": {},
   "source": [
    "## Split the original data in a training set and a test set with a training ratio of 0.85."
   ]
  },
  {
   "cell_type": "code",
   "execution_count": 14,
   "id": "e31ca496",
   "metadata": {},
   "outputs": [],
   "source": [
    "data_X = df.drop('label', axis=1)\n",
    "data_y = df['label']\n",
    "\n",
    "X_train, X_test, y_train, y_test = sklearn.model_selection.train_test_split(data_X, data_y, test_size=0.15, random_state=1)"
   ]
  },
  {
   "cell_type": "markdown",
   "id": "5e3a74d4",
   "metadata": {},
   "source": [
    "## After that, train a classifier of your choice with the training data."
   ]
  },
  {
   "cell_type": "code",
   "execution_count": 15,
   "id": "936eb830",
   "metadata": {},
   "outputs": [],
   "source": [
    "model = sklearn.tree.DecisionTreeClassifier()\n",
    "model.fit(X_train, y_train)\n",
    "predictions = model.predict(X_test)"
   ]
  },
  {
   "cell_type": "markdown",
   "id": "044052ed",
   "metadata": {},
   "source": [
    "## Compute the accuracy of this classifier with the examples from the test set and compute the confusion matrix."
   ]
  },
  {
   "cell_type": "code",
   "execution_count": 16,
   "id": "b45e8745",
   "metadata": {},
   "outputs": [
    {
     "name": "stdout",
     "output_type": "stream",
     "text": [
      "Accuracy: 0.9259259259259259\n",
      "Confusion Matrix:\n",
      " [[10  1]\n",
      " [ 1 15]]\n"
     ]
    }
   ],
   "source": [
    "print('Accuracy:', sklearn.metrics.accuracy_score(predictions, y_test))\n",
    "print('Confusion Matrix:\\n', sklearn.metrics.confusion_matrix(predictions, y_test))"
   ]
  },
  {
   "cell_type": "markdown",
   "id": "b176010a",
   "metadata": {},
   "source": [
    "Accuracy of 0.9259 means that around 92,6% of entries were classified right, 10 true positives and 15 true negatives, 1 false positive and 1 false negative."
   ]
  },
  {
   "cell_type": "markdown",
   "id": "0570d5de",
   "metadata": {},
   "source": [
    "## Take the modified wine data and repeat all classification steps"
   ]
  },
  {
   "cell_type": "code",
   "execution_count": 17,
   "id": "51e9f2d1",
   "metadata": {},
   "outputs": [
    {
     "name": "stdout",
     "output_type": "stream",
     "text": [
      "Accuracy for modified data: 0.9333333333333333\n",
      "Confusion Matrix for modified data:\n",
      " [[10  0]\n",
      " [ 2 18]]\n"
     ]
    }
   ],
   "source": [
    "df_mod.loc[df_mod.label!=0,'label']='not-class-0'\n",
    "df_mod.loc[df_mod.label==0,'label']='class-0'\n",
    "\n",
    "data_X_mod = df_mod.drop('label', axis=1)\n",
    "data_y_mod = df_mod['label']\n",
    "\n",
    "X_train_mod, X_test_mod, y_train_mod, y_test_mod = sklearn.model_selection.train_test_split(data_X_mod, data_y_mod, test_size=0.15, random_state=1)\n",
    "\n",
    "model_mod = sklearn.tree.DecisionTreeClassifier()\n",
    "\n",
    "model_mod.fit(X_train_mod, y_train_mod)\n",
    "predictions_mod = model_mod.predict(X_test_mod)\n",
    "\n",
    "accuracy = sklearn.metrics.accuracy_score(predictions_mod, y_test_mod)\n",
    "\n",
    "print('Accuracy for modified data:', sklearn.metrics.accuracy_score(predictions_mod, y_test_mod))\n",
    "print('Confusion Matrix for modified data:\\n', sklearn.metrics.confusion_matrix(predictions_mod, y_test_mod))"
   ]
  },
  {
   "cell_type": "markdown",
   "id": "aac427e6",
   "metadata": {},
   "source": [
    "Accuracy improved to 0.933 so the data transformation was helpful, but since we added 20 more examples the direct comparison may not make sense"
   ]
  }
 ],
 "metadata": {
  "kernelspec": {
   "display_name": "Python 3 (ipykernel)",
   "language": "python",
   "name": "python3"
  },
  "language_info": {
   "codemirror_mode": {
    "name": "ipython",
    "version": 3
   },
   "file_extension": ".py",
   "mimetype": "text/x-python",
   "name": "python",
   "nbconvert_exporter": "python",
   "pygments_lexer": "ipython3",
   "version": "3.9.15"
  }
 },
 "nbformat": 4,
 "nbformat_minor": 5
}
